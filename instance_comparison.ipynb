{
 "cells": [
  {
   "metadata": {
    "ExecuteTime": {
     "end_time": "2025-02-25T16:43:37.493210Z",
     "start_time": "2025-02-25T16:43:37.483209Z"
    }
   },
   "cell_type": "code",
   "source": [
    "import pandas as pd\n",
    "import json"
   ],
   "id": "59b563b7f37e5b2b",
   "outputs": [],
   "execution_count": 63
  },
  {
   "metadata": {
    "ExecuteTime": {
     "end_time": "2025-02-25T16:43:37.539083Z",
     "start_time": "2025-02-25T16:43:37.524643Z"
    }
   },
   "cell_type": "code",
   "source": [
    "# default list of games\n",
    "games = ['imagegame', 'privateshared', 'taboo', 'matchit_ascii'] # instances_v1.6.json\n",
    "# games = ['wordle', 'wordle_withclue', 'wordle_withcritic'] # no instances v2.0 (or v1.6?)\n",
    "# games = ['referencegame'] # instances_v1.6_en.json\n",
    "# games = ['matchit', 'codenames'] # instances_v1_6.json\n",
    "# games = ['textmapworld_graphreasoning', 'textmapworld_main', 'textmapworld_specificroom'] # instances_v1.6.json, -p textmapworld/\n",
    "\n",
    "\n",
    "# collection of which entries of the instance files should be compared per game\n",
    "target_dict = {\n",
    "    \"imagegame\": \"target_grid\",\n",
    "    \"privateshared\": \"slots\",\n",
    "    \"referencegame\": [\"player_1_target_grid\", \"player_1_second_grid\", \"player_1_third_grid\"], # Or is the order of grids also relevant?\n",
    "    \"taboo\": \"target_word\",\n",
    "    \"wordle\": \"target_word\",\n",
    "    \"wordle_withclue\": \"target_word\",\n",
    "    \"wordle_withcritic\": \"target_word\",\n",
    "    \"codenames\": \"assignments\", # use special treatment!\n",
    "    \"matchit\": [\"image_a\", \"image_b\"],\n",
    "    \"matchit_ascii\": [\"grid_a\", \"grid_b\"],\n",
    "    \"textmapworld_graphreasoning\": [\"Current_Position\", \"Picture_Name\"],\n",
    "    \"textmapworld_main\": [\"Current_Position\", \"Picture_Name\"],\n",
    "    \"textmapworld_specificroom\": [\"Current_Position\", \"Picture_Name\", \"Specific_Room\"]\n",
    "}"
   ],
   "id": "418727c6972e6f15",
   "outputs": [],
   "execution_count": 64
  },
  {
   "metadata": {
    "ExecuteTime": {
     "end_time": "2025-02-25T16:43:37.554098Z",
     "start_time": "2025-02-25T16:43:37.542088Z"
    }
   },
   "cell_type": "code",
   "source": [
    "def check_overlap(games: list, path_to_games: str, to_compare: list, print_output: bool = False):\n",
    "    for game in games:\n",
    "        target = target_dict[game]\n",
    "        dfs = tuple()\n",
    "\n",
    "        for version in to_compare:\n",
    "            targets = []\n",
    "            epids = []\n",
    "            instance_path = path_to_games + game + \"/in/\" + version\n",
    "\n",
    "            with open(instance_path) as f:\n",
    "                instances = json.load(f)\n",
    "            for experiment in instances[\"experiments\"]:\n",
    "                for instance in experiment[\"game_instances\"]:\n",
    "                    epids.append(experiment[\"name\"] + \"_\" + str(instance[\"game_id\"]))\n",
    "                    if isinstance(target, list):\n",
    "                        this_target = \" \".join([instance[t] for t in target])\n",
    "                    else:\n",
    "                        this_target = instance[target]\n",
    "                        if isinstance(this_target, dict):\n",
    "                            if game == \"codenames\":\n",
    "                                this_target = special_codenames_treatment(this_target)\n",
    "                            else:\n",
    "                                this_target = str(this_target)\n",
    "                        elif isinstance(this_target, list):\n",
    "                            this_target = \" \".join(this_target)\n",
    "\n",
    "                    targets.append(this_target)\n",
    "\n",
    "            df = pd.DataFrame({\n",
    "                \"epid\": epids,\n",
    "                \"target\": targets\n",
    "            })\n",
    "            dfs += (df,)\n",
    "\n",
    "        overlap = pd.merge(dfs[0], dfs[1], how = \"inner\", on = \"target\")\n",
    "        # print(f\"Overlap DF for {game}:\")\n",
    "        # print(overlap)\n",
    "        print(f\"{len(overlap)} instance(s) overlap in {game} between {to_compare[0]} and {to_compare[1]}\")\n",
    "        if print_output and len(overlap) > 0:\n",
    "            print(overlap[[\"epid_x\", \"epid_y\"]])\n",
    "\n",
    "\n",
    "def special_codenames_treatment(assignments : dict)-> str:\n",
    "    \"\"\"\n",
    "    Returns the assignments of the codenames board sorted alphabetically as one string.\n",
    "    \"\"\"\n",
    "    assignment_list = []\n",
    "    for group, words in assignments.items():\n",
    "        assignment_list += [group]\n",
    "        assignment_list += sorted(words)\n",
    "    return str(assignment_list)"
   ],
   "id": "1d4036e508ba49e8",
   "outputs": [],
   "execution_count": 65
  },
  {
   "metadata": {
    "ExecuteTime": {
     "end_time": "2025-02-25T16:43:37.600236Z",
     "start_time": "2025-02-25T16:43:37.570314Z"
    }
   },
   "cell_type": "code",
   "source": [
    "path = \"\"\n",
    "to_compare = [\"instances.json\", \"instances_v1.6.json\"]\n",
    "print_output = True\n",
    "\n",
    "check_overlap(games, path, to_compare, print_output)"
   ],
   "id": "bd8da99f41e9cdef",
   "outputs": [
    {
     "name": "stdout",
     "output_type": "stream",
     "text": [
      "1 instance(s) overlap in imagegame between instances.json and instances_v1.6.json\n",
      "           epid_x          epid_y\n",
      "0  random_grids_0  random_grids_0\n",
      "0 instance(s) overlap in privateshared between instances.json and instances_v1.6.json\n",
      "0 instance(s) overlap in taboo between instances.json and instances_v1.6.json\n",
      "7 instance(s) overlap in matchit_ascii between instances.json and instances_v1.6.json\n",
      "             epid_x            epid_y\n",
      "0       same_grid_8       same_grid_3\n",
      "1  similar_grid_1_3  similar_grid_1_0\n",
      "2  similar_grid_1_4  similar_grid_1_9\n",
      "3  similar_grid_1_5  similar_grid_1_5\n",
      "4  similar_grid_1_6  similar_grid_1_3\n",
      "5  similar_grid_1_8  similar_grid_1_8\n",
      "6  similar_grid_2_8  similar_grid_2_3\n"
     ]
    }
   ],
   "execution_count": 66
  },
  {
   "metadata": {
    "ExecuteTime": {
     "end_time": "2025-02-25T16:43:37.630477Z",
     "start_time": "2025-02-25T16:43:37.616403Z"
    }
   },
   "cell_type": "code",
   "source": [
    "games = ['referencegame'] # instances_v1.6_en.json\n",
    "to_compare = [\"instances.json\", \"instances_v1.6_en.json\"]\n",
    "check_overlap(games, path, to_compare, print_output)"
   ],
   "id": "3d443efc75b244f6",
   "outputs": [
    {
     "name": "stdout",
     "output_type": "stream",
     "text": [
      "0 instance(s) overlap in referencegame between instances.json and instances_v1.6_en.json\n"
     ]
    }
   ],
   "execution_count": 67
  },
  {
   "metadata": {
    "ExecuteTime": {
     "end_time": "2025-02-25T16:43:37.661899Z",
     "start_time": "2025-02-25T16:43:37.646815Z"
    }
   },
   "cell_type": "code",
   "source": [
    "games = ['matchit', 'codenames'] # instances_v1_6.json\n",
    "to_compare = [\"instances.json\", \"instances_v1_6.json\"]\n",
    "check_overlap(games, path, to_compare, print_output)"
   ],
   "id": "43471db93d1f3111",
   "outputs": [
    {
     "name": "stdout",
     "output_type": "stream",
     "text": [
      "30 instance(s) overlap in matchit between instances.json and instances_v1_6.json\n",
      "               epid_x             epid_y\n",
      "0        same_image_0       same_image_0\n",
      "1        same_image_1       same_image_1\n",
      "2        same_image_2       same_image_2\n",
      "3        same_image_3       same_image_3\n",
      "4        same_image_4       same_image_4\n",
      "5        same_image_5       same_image_5\n",
      "6        same_image_6       same_image_6\n",
      "7        same_image_7       same_image_7\n",
      "8        same_image_8       same_image_8\n",
      "9        same_image_9       same_image_9\n",
      "10    similar_image_0    similar_image_0\n",
      "11    similar_image_1    similar_image_1\n",
      "12    similar_image_2    similar_image_2\n",
      "13    similar_image_3    similar_image_3\n",
      "14    similar_image_4    similar_image_4\n",
      "15    similar_image_5    similar_image_5\n",
      "16    similar_image_6    similar_image_6\n",
      "17    similar_image_7    similar_image_7\n",
      "18    similar_image_8    similar_image_8\n",
      "19    similar_image_9    similar_image_9\n",
      "20  different_image_0  different_image_0\n",
      "21  different_image_1  different_image_1\n",
      "22  different_image_2  different_image_2\n",
      "23  different_image_3  different_image_3\n",
      "24  different_image_4  different_image_4\n",
      "25  different_image_5  different_image_5\n",
      "26  different_image_6  different_image_6\n",
      "27  different_image_7  different_image_7\n",
      "28  different_image_8  different_image_8\n",
      "29  different_image_9  different_image_9\n",
      "0 instance(s) overlap in codenames between instances.json and instances_v1_6.json\n"
     ]
    }
   ],
   "execution_count": 68
  },
  {
   "metadata": {
    "ExecuteTime": {
     "end_time": "2025-02-25T16:43:37.692176Z",
     "start_time": "2025-02-25T16:43:37.679096Z"
    }
   },
   "cell_type": "code",
   "source": [
    "games = ['textmapworld_graphreasoning', 'textmapworld_main', 'textmapworld_specificroom'] # instances_v1.6.json, -p textmapworld/\n",
    "path = \"textmapworld/\"\n",
    "to_compare = [\"instances.json\", \"instances_v1.6.json\"]\n",
    "print_output = False\n",
    "\n",
    "check_overlap(games, path, to_compare, print_output)"
   ],
   "id": "acac01f86f88a88e",
   "outputs": [
    {
     "name": "stdout",
     "output_type": "stream",
     "text": [
      "30 instance(s) overlap in textmapworld_graphreasoning between instances.json and instances_v1.6.json\n",
      "50 instance(s) overlap in textmapworld_main between instances.json and instances_v1.6.json\n",
      "18 instance(s) overlap in textmapworld_specificroom between instances.json and instances_v1.6.json\n"
     ]
    }
   ],
   "execution_count": 69
  },
  {
   "metadata": {
    "ExecuteTime": {
     "end_time": "2025-02-25T16:54:20.695492Z",
     "start_time": "2025-02-25T16:54:20.686356Z"
    }
   },
   "cell_type": "code",
   "source": [
    "def check_overlap_direct(games: list, path_to_games: str, to_compare: list, print_output: bool = False):\n",
    "    overlaps = dict()\n",
    "    no_overlaps = dict()\n",
    "    for game in games:\n",
    "        overlaps[game] = list()\n",
    "        game_overlaps = overlaps[game]\n",
    "\n",
    "        no_overlaps[game] = list()\n",
    "        game_no_overlaps = no_overlaps[game]\n",
    "\n",
    "        target = target_dict[game]\n",
    "        if not type(target) == list:\n",
    "            target = [target]\n",
    "\n",
    "        v2_instance_path = path_to_games + game + \"/in/\" + to_compare[0]\n",
    "        with open(v2_instance_path) as f:\n",
    "            v2_instances = json.load(f)\n",
    "\n",
    "        v1_6_instance_path = path_to_games + game + \"/in/\" + to_compare[1]\n",
    "        with open(v1_6_instance_path) as f:\n",
    "            v1_6_instances = json.load(f)\n",
    "\n",
    "        instance_count = 0\n",
    "\n",
    "        for experiment in v2_instances[\"experiments\"]:\n",
    "            for instance in experiment[\"game_instances\"]:\n",
    "                no_overlap = True\n",
    "                instance_count += 1\n",
    "                inst_id = experiment[\"name\"] + \"_\" + str(instance[\"game_id\"])\n",
    "                # print(inst_id)\n",
    "                for sub_target in target:\n",
    "                    # print(f\"v2 sub-target: {sub_target}\")\n",
    "                    inst_target = instance[sub_target]\n",
    "                    # print(inst_target)\n",
    "                    for experiment_old in v1_6_instances[\"experiments\"]:\n",
    "                        for instance_old in experiment_old[\"game_instances\"]:\n",
    "                            inst_id_old = experiment[\"name\"] + \"_\" + str(instance[\"game_id\"])\n",
    "                            # print(inst_id_old)\n",
    "                            old_inst_target = instance_old[sub_target]\n",
    "                            # print(old_inst_target)\n",
    "                            if inst_target == old_inst_target:\n",
    "                                no_overlap = False\n",
    "                                if [sub_target, inst_id, inst_id_old] not in game_overlaps:\n",
    "                                    game_overlaps.append([sub_target, inst_id, inst_id_old])\n",
    "                if no_overlap:\n",
    "                    game_no_overlaps.append(inst_id)\n",
    "\n",
    "        print(f\"{len(game_overlaps)} overlaps out of {instance_count} in {game} between {to_compare[0]} and {to_compare[1]}\")\n",
    "\n",
    "    # return {'overlaps': overlaps, 'no_overlaps': no_overlaps}\n",
    "    return overlaps"
   ],
   "id": "7b2a5681f6bde10b",
   "outputs": [],
   "execution_count": 88
  },
  {
   "metadata": {
    "ExecuteTime": {
     "end_time": "2025-02-25T16:54:21.400126Z",
     "start_time": "2025-02-25T16:54:21.373879Z"
    }
   },
   "cell_type": "code",
   "source": [
    "games = ['imagegame', 'privateshared', 'taboo', 'matchit_ascii'] # instances_v1.6.json\n",
    "path = \"\"\n",
    "to_compare = [\"instances.json\", \"instances_v1.6.json\"]\n",
    "print_output = False\n",
    "\n",
    "check_overlap_direct(games, path, to_compare, print_output)"
   ],
   "id": "4a70554a03ec6457",
   "outputs": [
    {
     "name": "stdout",
     "output_type": "stream",
     "text": [
      "1 overlaps out of 60 in imagegame between instances.json and instances_v1.6.json\n",
      "0 overlaps out of 50 in privateshared between instances.json and instances_v1.6.json\n",
      "0 overlaps out of 60 in taboo between instances.json and instances_v1.6.json\n",
      "40 overlaps out of 40 in matchit_ascii between instances.json and instances_v1.6.json\n"
     ]
    },
    {
     "data": {
      "text/plain": [
       "{'imagegame': [['target_grid', 'random_grids_0', 'random_grids_0']],\n",
       " 'privateshared': [],\n",
       " 'taboo': [],\n",
       " 'matchit_ascii': [['grid_a', 'same_grid_0', 'same_grid_0'],\n",
       "  ['grid_b', 'same_grid_1', 'same_grid_1'],\n",
       "  ['grid_a', 'same_grid_2', 'same_grid_2'],\n",
       "  ['grid_a', 'same_grid_5', 'same_grid_5'],\n",
       "  ['grid_b', 'same_grid_5', 'same_grid_5'],\n",
       "  ['grid_a', 'same_grid_6', 'same_grid_6'],\n",
       "  ['grid_b', 'same_grid_6', 'same_grid_6'],\n",
       "  ['grid_a', 'same_grid_8', 'same_grid_8'],\n",
       "  ['grid_b', 'same_grid_8', 'same_grid_8'],\n",
       "  ['grid_a', 'same_grid_9', 'same_grid_9'],\n",
       "  ['grid_a', 'similar_grid_1_0', 'similar_grid_1_0'],\n",
       "  ['grid_b', 'similar_grid_1_1', 'similar_grid_1_1'],\n",
       "  ['grid_a', 'similar_grid_1_2', 'similar_grid_1_2'],\n",
       "  ['grid_a', 'similar_grid_1_3', 'similar_grid_1_3'],\n",
       "  ['grid_b', 'similar_grid_1_3', 'similar_grid_1_3'],\n",
       "  ['grid_a', 'similar_grid_1_4', 'similar_grid_1_4'],\n",
       "  ['grid_b', 'similar_grid_1_4', 'similar_grid_1_4'],\n",
       "  ['grid_a', 'similar_grid_1_5', 'similar_grid_1_5'],\n",
       "  ['grid_b', 'similar_grid_1_5', 'similar_grid_1_5'],\n",
       "  ['grid_a', 'similar_grid_1_6', 'similar_grid_1_6'],\n",
       "  ['grid_b', 'similar_grid_1_6', 'similar_grid_1_6'],\n",
       "  ['grid_a', 'similar_grid_1_7', 'similar_grid_1_7'],\n",
       "  ['grid_b', 'similar_grid_1_7', 'similar_grid_1_7'],\n",
       "  ['grid_a', 'similar_grid_1_8', 'similar_grid_1_8'],\n",
       "  ['grid_b', 'similar_grid_1_8', 'similar_grid_1_8'],\n",
       "  ['grid_a', 'similar_grid_1_9', 'similar_grid_1_9'],\n",
       "  ['grid_b', 'similar_grid_1_9', 'similar_grid_1_9'],\n",
       "  ['grid_a', 'similar_grid_2_0', 'similar_grid_2_0'],\n",
       "  ['grid_a', 'similar_grid_2_2', 'similar_grid_2_2'],\n",
       "  ['grid_a', 'similar_grid_2_5', 'similar_grid_2_5'],\n",
       "  ['grid_a', 'similar_grid_2_6', 'similar_grid_2_6'],\n",
       "  ['grid_a', 'similar_grid_2_8', 'similar_grid_2_8'],\n",
       "  ['grid_b', 'similar_grid_2_8', 'similar_grid_2_8'],\n",
       "  ['grid_a', 'similar_grid_2_9', 'similar_grid_2_9'],\n",
       "  ['grid_b', 'different_grid_1', 'different_grid_1'],\n",
       "  ['grid_a', 'different_grid_6', 'different_grid_6'],\n",
       "  ['grid_a', 'different_grid_7', 'different_grid_7'],\n",
       "  ['grid_a', 'different_grid_8', 'different_grid_8'],\n",
       "  ['grid_a', 'different_grid_9', 'different_grid_9'],\n",
       "  ['grid_b', 'different_grid_9', 'different_grid_9']]}"
      ]
     },
     "execution_count": 89,
     "metadata": {},
     "output_type": "execute_result"
    }
   ],
   "execution_count": 89
  },
  {
   "metadata": {
    "ExecuteTime": {
     "end_time": "2025-02-25T16:54:30.013762Z",
     "start_time": "2025-02-25T16:54:29.988399Z"
    }
   },
   "cell_type": "code",
   "source": [
    "games = ['referencegame'] # instances_v1.6_en.json\n",
    "to_compare = [\"instances.json\", \"instances_v1.6_en.json\"]\n",
    "check_overlap_direct(games, path, to_compare, print_output)"
   ],
   "id": "8caa306ad5f1f747",
   "outputs": [
    {
     "name": "stdout",
     "output_type": "stream",
     "text": [
      "0 overlaps out of 90 in referencegame between instances.json and instances_v1.6_en.json\n"
     ]
    },
    {
     "data": {
      "text/plain": [
       "{'referencegame': []}"
      ]
     },
     "execution_count": 90,
     "metadata": {},
     "output_type": "execute_result"
    }
   ],
   "execution_count": 90
  },
  {
   "metadata": {
    "ExecuteTime": {
     "end_time": "2025-02-25T16:54:32.148945Z",
     "start_time": "2025-02-25T16:54:32.122715Z"
    }
   },
   "cell_type": "code",
   "source": [
    "games = ['matchit', 'codenames'] # instances_v1_6.json\n",
    "to_compare = [\"instances.json\", \"instances_v1_6.json\"]\n",
    "check_overlap_direct(games, path, to_compare, print_output)"
   ],
   "id": "d3228618bed5f0b6",
   "outputs": [
    {
     "name": "stdout",
     "output_type": "stream",
     "text": [
      "60 overlaps out of 30 in matchit between instances.json and instances_v1_6.json\n",
      "0 overlaps out of 130 in codenames between instances.json and instances_v1_6.json\n"
     ]
    },
    {
     "data": {
      "text/plain": [
       "{'matchit': [['image_a', 'same_image_0', 'same_image_0'],\n",
       "  ['image_b', 'same_image_0', 'same_image_0'],\n",
       "  ['image_a', 'same_image_1', 'same_image_1'],\n",
       "  ['image_b', 'same_image_1', 'same_image_1'],\n",
       "  ['image_a', 'same_image_2', 'same_image_2'],\n",
       "  ['image_b', 'same_image_2', 'same_image_2'],\n",
       "  ['image_a', 'same_image_3', 'same_image_3'],\n",
       "  ['image_b', 'same_image_3', 'same_image_3'],\n",
       "  ['image_a', 'same_image_4', 'same_image_4'],\n",
       "  ['image_b', 'same_image_4', 'same_image_4'],\n",
       "  ['image_a', 'same_image_5', 'same_image_5'],\n",
       "  ['image_b', 'same_image_5', 'same_image_5'],\n",
       "  ['image_a', 'same_image_6', 'same_image_6'],\n",
       "  ['image_b', 'same_image_6', 'same_image_6'],\n",
       "  ['image_a', 'same_image_7', 'same_image_7'],\n",
       "  ['image_b', 'same_image_7', 'same_image_7'],\n",
       "  ['image_a', 'same_image_8', 'same_image_8'],\n",
       "  ['image_b', 'same_image_8', 'same_image_8'],\n",
       "  ['image_a', 'same_image_9', 'same_image_9'],\n",
       "  ['image_b', 'same_image_9', 'same_image_9'],\n",
       "  ['image_a', 'similar_image_0', 'similar_image_0'],\n",
       "  ['image_b', 'similar_image_0', 'similar_image_0'],\n",
       "  ['image_a', 'similar_image_1', 'similar_image_1'],\n",
       "  ['image_b', 'similar_image_1', 'similar_image_1'],\n",
       "  ['image_a', 'similar_image_2', 'similar_image_2'],\n",
       "  ['image_b', 'similar_image_2', 'similar_image_2'],\n",
       "  ['image_a', 'similar_image_3', 'similar_image_3'],\n",
       "  ['image_b', 'similar_image_3', 'similar_image_3'],\n",
       "  ['image_a', 'similar_image_4', 'similar_image_4'],\n",
       "  ['image_b', 'similar_image_4', 'similar_image_4'],\n",
       "  ['image_a', 'similar_image_5', 'similar_image_5'],\n",
       "  ['image_b', 'similar_image_5', 'similar_image_5'],\n",
       "  ['image_a', 'similar_image_6', 'similar_image_6'],\n",
       "  ['image_b', 'similar_image_6', 'similar_image_6'],\n",
       "  ['image_a', 'similar_image_7', 'similar_image_7'],\n",
       "  ['image_b', 'similar_image_7', 'similar_image_7'],\n",
       "  ['image_a', 'similar_image_8', 'similar_image_8'],\n",
       "  ['image_b', 'similar_image_8', 'similar_image_8'],\n",
       "  ['image_a', 'similar_image_9', 'similar_image_9'],\n",
       "  ['image_b', 'similar_image_9', 'similar_image_9'],\n",
       "  ['image_a', 'different_image_0', 'different_image_0'],\n",
       "  ['image_b', 'different_image_0', 'different_image_0'],\n",
       "  ['image_a', 'different_image_1', 'different_image_1'],\n",
       "  ['image_b', 'different_image_1', 'different_image_1'],\n",
       "  ['image_a', 'different_image_2', 'different_image_2'],\n",
       "  ['image_b', 'different_image_2', 'different_image_2'],\n",
       "  ['image_a', 'different_image_3', 'different_image_3'],\n",
       "  ['image_b', 'different_image_3', 'different_image_3'],\n",
       "  ['image_a', 'different_image_4', 'different_image_4'],\n",
       "  ['image_b', 'different_image_4', 'different_image_4'],\n",
       "  ['image_a', 'different_image_5', 'different_image_5'],\n",
       "  ['image_b', 'different_image_5', 'different_image_5'],\n",
       "  ['image_a', 'different_image_6', 'different_image_6'],\n",
       "  ['image_b', 'different_image_6', 'different_image_6'],\n",
       "  ['image_a', 'different_image_7', 'different_image_7'],\n",
       "  ['image_b', 'different_image_7', 'different_image_7'],\n",
       "  ['image_a', 'different_image_8', 'different_image_8'],\n",
       "  ['image_b', 'different_image_8', 'different_image_8'],\n",
       "  ['image_a', 'different_image_9', 'different_image_9'],\n",
       "  ['image_b', 'different_image_9', 'different_image_9']],\n",
       " 'codenames': []}"
      ]
     },
     "execution_count": 91,
     "metadata": {},
     "output_type": "execute_result"
    }
   ],
   "execution_count": 91
  },
  {
   "metadata": {
    "ExecuteTime": {
     "end_time": "2025-02-25T16:54:39.021768Z",
     "start_time": "2025-02-25T16:54:38.994474Z"
    }
   },
   "cell_type": "code",
   "source": [
    "games = ['textmapworld_graphreasoning', 'textmapworld_main', 'textmapworld_specificroom'] # instances_v1.6.json, -p textmapworld/\n",
    "path = \"textmapworld/\"\n",
    "to_compare = [\"instances.json\", \"instances_v1.6.json\"]\n",
    "print_output = False\n",
    "\n",
    "check_overlap_direct(games, path, to_compare, print_output)"
   ],
   "id": "9263f84c4b01896f",
   "outputs": [
    {
     "name": "stdout",
     "output_type": "stream",
     "text": [
      "60 overlaps out of 30 in textmapworld_graphreasoning between instances.json and instances_v1.6.json\n",
      "100 overlaps out of 50 in textmapworld_main between instances.json and instances_v1.6.json\n",
      "82 overlaps out of 30 in textmapworld_specificroom between instances.json and instances_v1.6.json\n"
     ]
    },
    {
     "data": {
      "text/plain": [
       "{'textmapworld_graphreasoning': [['Current_Position', 'small_0', 'small_0'],\n",
       "  ['Picture_Name', 'small_0', 'small_0'],\n",
       "  ['Current_Position', 'small_1', 'small_1'],\n",
       "  ['Picture_Name', 'small_1', 'small_1'],\n",
       "  ['Current_Position', 'small_2', 'small_2'],\n",
       "  ['Picture_Name', 'small_2', 'small_2'],\n",
       "  ['Current_Position', 'small_3', 'small_3'],\n",
       "  ['Picture_Name', 'small_3', 'small_3'],\n",
       "  ['Current_Position', 'small_4', 'small_4'],\n",
       "  ['Picture_Name', 'small_4', 'small_4'],\n",
       "  ['Current_Position', 'small_5', 'small_5'],\n",
       "  ['Picture_Name', 'small_5', 'small_5'],\n",
       "  ['Current_Position', 'small_6', 'small_6'],\n",
       "  ['Picture_Name', 'small_6', 'small_6'],\n",
       "  ['Current_Position', 'small_7', 'small_7'],\n",
       "  ['Picture_Name', 'small_7', 'small_7'],\n",
       "  ['Current_Position', 'small_8', 'small_8'],\n",
       "  ['Picture_Name', 'small_8', 'small_8'],\n",
       "  ['Current_Position', 'small_9', 'small_9'],\n",
       "  ['Picture_Name', 'small_9', 'small_9'],\n",
       "  ['Current_Position', 'medium_10', 'medium_10'],\n",
       "  ['Picture_Name', 'medium_10', 'medium_10'],\n",
       "  ['Current_Position', 'medium_11', 'medium_11'],\n",
       "  ['Picture_Name', 'medium_11', 'medium_11'],\n",
       "  ['Current_Position', 'medium_12', 'medium_12'],\n",
       "  ['Picture_Name', 'medium_12', 'medium_12'],\n",
       "  ['Current_Position', 'medium_13', 'medium_13'],\n",
       "  ['Picture_Name', 'medium_13', 'medium_13'],\n",
       "  ['Current_Position', 'medium_14', 'medium_14'],\n",
       "  ['Picture_Name', 'medium_14', 'medium_14'],\n",
       "  ['Current_Position', 'medium_15', 'medium_15'],\n",
       "  ['Picture_Name', 'medium_15', 'medium_15'],\n",
       "  ['Current_Position', 'medium_16', 'medium_16'],\n",
       "  ['Picture_Name', 'medium_16', 'medium_16'],\n",
       "  ['Current_Position', 'medium_17', 'medium_17'],\n",
       "  ['Picture_Name', 'medium_17', 'medium_17'],\n",
       "  ['Current_Position', 'medium_18', 'medium_18'],\n",
       "  ['Picture_Name', 'medium_18', 'medium_18'],\n",
       "  ['Current_Position', 'medium_19', 'medium_19'],\n",
       "  ['Picture_Name', 'medium_19', 'medium_19'],\n",
       "  ['Current_Position', 'large_20', 'large_20'],\n",
       "  ['Picture_Name', 'large_20', 'large_20'],\n",
       "  ['Current_Position', 'large_21', 'large_21'],\n",
       "  ['Picture_Name', 'large_21', 'large_21'],\n",
       "  ['Current_Position', 'large_22', 'large_22'],\n",
       "  ['Picture_Name', 'large_22', 'large_22'],\n",
       "  ['Current_Position', 'large_23', 'large_23'],\n",
       "  ['Picture_Name', 'large_23', 'large_23'],\n",
       "  ['Current_Position', 'large_24', 'large_24'],\n",
       "  ['Picture_Name', 'large_24', 'large_24'],\n",
       "  ['Current_Position', 'large_25', 'large_25'],\n",
       "  ['Picture_Name', 'large_25', 'large_25'],\n",
       "  ['Current_Position', 'large_26', 'large_26'],\n",
       "  ['Picture_Name', 'large_26', 'large_26'],\n",
       "  ['Current_Position', 'large_27', 'large_27'],\n",
       "  ['Picture_Name', 'large_27', 'large_27'],\n",
       "  ['Current_Position', 'large_28', 'large_28'],\n",
       "  ['Picture_Name', 'large_28', 'large_28'],\n",
       "  ['Current_Position', 'large_29', 'large_29'],\n",
       "  ['Picture_Name', 'large_29', 'large_29']],\n",
       " 'textmapworld_main': [['Current_Position', 'small_0', 'small_0'],\n",
       "  ['Picture_Name', 'small_0', 'small_0'],\n",
       "  ['Current_Position', 'small_1', 'small_1'],\n",
       "  ['Picture_Name', 'small_1', 'small_1'],\n",
       "  ['Current_Position', 'small_2', 'small_2'],\n",
       "  ['Picture_Name', 'small_2', 'small_2'],\n",
       "  ['Current_Position', 'small_3', 'small_3'],\n",
       "  ['Picture_Name', 'small_3', 'small_3'],\n",
       "  ['Current_Position', 'small_4', 'small_4'],\n",
       "  ['Picture_Name', 'small_4', 'small_4'],\n",
       "  ['Current_Position', 'small_5', 'small_5'],\n",
       "  ['Picture_Name', 'small_5', 'small_5'],\n",
       "  ['Current_Position', 'small_6', 'small_6'],\n",
       "  ['Picture_Name', 'small_6', 'small_6'],\n",
       "  ['Current_Position', 'small_7', 'small_7'],\n",
       "  ['Picture_Name', 'small_7', 'small_7'],\n",
       "  ['Current_Position', 'small_8', 'small_8'],\n",
       "  ['Picture_Name', 'small_8', 'small_8'],\n",
       "  ['Current_Position', 'small_9', 'small_9'],\n",
       "  ['Picture_Name', 'small_9', 'small_9'],\n",
       "  ['Current_Position', 'medium_10', 'medium_10'],\n",
       "  ['Picture_Name', 'medium_10', 'medium_10'],\n",
       "  ['Current_Position', 'medium_11', 'medium_11'],\n",
       "  ['Picture_Name', 'medium_11', 'medium_11'],\n",
       "  ['Current_Position', 'medium_12', 'medium_12'],\n",
       "  ['Picture_Name', 'medium_12', 'medium_12'],\n",
       "  ['Current_Position', 'medium_13', 'medium_13'],\n",
       "  ['Picture_Name', 'medium_13', 'medium_13'],\n",
       "  ['Current_Position', 'medium_14', 'medium_14'],\n",
       "  ['Picture_Name', 'medium_14', 'medium_14'],\n",
       "  ['Current_Position', 'medium_15', 'medium_15'],\n",
       "  ['Picture_Name', 'medium_15', 'medium_15'],\n",
       "  ['Current_Position', 'medium_16', 'medium_16'],\n",
       "  ['Picture_Name', 'medium_16', 'medium_16'],\n",
       "  ['Current_Position', 'medium_17', 'medium_17'],\n",
       "  ['Picture_Name', 'medium_17', 'medium_17'],\n",
       "  ['Current_Position', 'medium_18', 'medium_18'],\n",
       "  ['Picture_Name', 'medium_18', 'medium_18'],\n",
       "  ['Current_Position', 'medium_19', 'medium_19'],\n",
       "  ['Picture_Name', 'medium_19', 'medium_19'],\n",
       "  ['Current_Position', 'large_20', 'large_20'],\n",
       "  ['Picture_Name', 'large_20', 'large_20'],\n",
       "  ['Current_Position', 'large_21', 'large_21'],\n",
       "  ['Picture_Name', 'large_21', 'large_21'],\n",
       "  ['Current_Position', 'large_22', 'large_22'],\n",
       "  ['Picture_Name', 'large_22', 'large_22'],\n",
       "  ['Current_Position', 'large_23', 'large_23'],\n",
       "  ['Picture_Name', 'large_23', 'large_23'],\n",
       "  ['Current_Position', 'large_24', 'large_24'],\n",
       "  ['Picture_Name', 'large_24', 'large_24'],\n",
       "  ['Current_Position', 'large_25', 'large_25'],\n",
       "  ['Picture_Name', 'large_25', 'large_25'],\n",
       "  ['Current_Position', 'large_26', 'large_26'],\n",
       "  ['Picture_Name', 'large_26', 'large_26'],\n",
       "  ['Current_Position', 'large_27', 'large_27'],\n",
       "  ['Picture_Name', 'large_27', 'large_27'],\n",
       "  ['Current_Position', 'large_28', 'large_28'],\n",
       "  ['Picture_Name', 'large_28', 'large_28'],\n",
       "  ['Current_Position', 'large_29', 'large_29'],\n",
       "  ['Picture_Name', 'large_29', 'large_29'],\n",
       "  ['Current_Position', 'medium_cycle_30', 'medium_cycle_30'],\n",
       "  ['Picture_Name', 'medium_cycle_30', 'medium_cycle_30'],\n",
       "  ['Current_Position', 'medium_cycle_31', 'medium_cycle_31'],\n",
       "  ['Picture_Name', 'medium_cycle_31', 'medium_cycle_31'],\n",
       "  ['Current_Position', 'medium_cycle_32', 'medium_cycle_32'],\n",
       "  ['Picture_Name', 'medium_cycle_32', 'medium_cycle_32'],\n",
       "  ['Current_Position', 'medium_cycle_33', 'medium_cycle_33'],\n",
       "  ['Picture_Name', 'medium_cycle_33', 'medium_cycle_33'],\n",
       "  ['Current_Position', 'medium_cycle_34', 'medium_cycle_34'],\n",
       "  ['Picture_Name', 'medium_cycle_34', 'medium_cycle_34'],\n",
       "  ['Current_Position', 'medium_cycle_35', 'medium_cycle_35'],\n",
       "  ['Picture_Name', 'medium_cycle_35', 'medium_cycle_35'],\n",
       "  ['Current_Position', 'medium_cycle_36', 'medium_cycle_36'],\n",
       "  ['Picture_Name', 'medium_cycle_36', 'medium_cycle_36'],\n",
       "  ['Current_Position', 'medium_cycle_37', 'medium_cycle_37'],\n",
       "  ['Picture_Name', 'medium_cycle_37', 'medium_cycle_37'],\n",
       "  ['Current_Position', 'medium_cycle_38', 'medium_cycle_38'],\n",
       "  ['Picture_Name', 'medium_cycle_38', 'medium_cycle_38'],\n",
       "  ['Current_Position', 'medium_cycle_39', 'medium_cycle_39'],\n",
       "  ['Picture_Name', 'medium_cycle_39', 'medium_cycle_39'],\n",
       "  ['Current_Position', 'large_cycle_40', 'large_cycle_40'],\n",
       "  ['Picture_Name', 'large_cycle_40', 'large_cycle_40'],\n",
       "  ['Current_Position', 'large_cycle_41', 'large_cycle_41'],\n",
       "  ['Picture_Name', 'large_cycle_41', 'large_cycle_41'],\n",
       "  ['Current_Position', 'large_cycle_42', 'large_cycle_42'],\n",
       "  ['Picture_Name', 'large_cycle_42', 'large_cycle_42'],\n",
       "  ['Current_Position', 'large_cycle_43', 'large_cycle_43'],\n",
       "  ['Picture_Name', 'large_cycle_43', 'large_cycle_43'],\n",
       "  ['Current_Position', 'large_cycle_44', 'large_cycle_44'],\n",
       "  ['Picture_Name', 'large_cycle_44', 'large_cycle_44'],\n",
       "  ['Current_Position', 'large_cycle_45', 'large_cycle_45'],\n",
       "  ['Picture_Name', 'large_cycle_45', 'large_cycle_45'],\n",
       "  ['Current_Position', 'large_cycle_46', 'large_cycle_46'],\n",
       "  ['Picture_Name', 'large_cycle_46', 'large_cycle_46'],\n",
       "  ['Current_Position', 'large_cycle_47', 'large_cycle_47'],\n",
       "  ['Picture_Name', 'large_cycle_47', 'large_cycle_47'],\n",
       "  ['Current_Position', 'large_cycle_48', 'large_cycle_48'],\n",
       "  ['Picture_Name', 'large_cycle_48', 'large_cycle_48'],\n",
       "  ['Current_Position', 'large_cycle_49', 'large_cycle_49'],\n",
       "  ['Picture_Name', 'large_cycle_49', 'large_cycle_49']],\n",
       " 'textmapworld_specificroom': [['Current_Position', 'on_0', 'on_0'],\n",
       "  ['Picture_Name', 'on_0', 'on_0'],\n",
       "  ['Specific_Room', 'on_0', 'on_0'],\n",
       "  ['Current_Position', 'on_1', 'on_1'],\n",
       "  ['Picture_Name', 'on_1', 'on_1'],\n",
       "  ['Specific_Room', 'on_1', 'on_1'],\n",
       "  ['Current_Position', 'on_2', 'on_2'],\n",
       "  ['Picture_Name', 'on_2', 'on_2'],\n",
       "  ['Specific_Room', 'on_2', 'on_2'],\n",
       "  ['Current_Position', 'on_3', 'on_3'],\n",
       "  ['Picture_Name', 'on_3', 'on_3'],\n",
       "  ['Specific_Room', 'on_3', 'on_3'],\n",
       "  ['Current_Position', 'on_4', 'on_4'],\n",
       "  ['Picture_Name', 'on_4', 'on_4'],\n",
       "  ['Specific_Room', 'on_4', 'on_4'],\n",
       "  ['Current_Position', 'on_5', 'on_5'],\n",
       "  ['Picture_Name', 'on_5', 'on_5'],\n",
       "  ['Specific_Room', 'on_5', 'on_5'],\n",
       "  ['Current_Position', 'on_6', 'on_6'],\n",
       "  ['Picture_Name', 'on_6', 'on_6'],\n",
       "  ['Specific_Room', 'on_6', 'on_6'],\n",
       "  ['Current_Position', 'on_7', 'on_7'],\n",
       "  ['Picture_Name', 'on_7', 'on_7'],\n",
       "  ['Specific_Room', 'on_7', 'on_7'],\n",
       "  ['Current_Position', 'on_8', 'on_8'],\n",
       "  ['Picture_Name', 'on_8', 'on_8'],\n",
       "  ['Specific_Room', 'on_8', 'on_8'],\n",
       "  ['Current_Position', 'on_9', 'on_9'],\n",
       "  ['Picture_Name', 'on_9', 'on_9'],\n",
       "  ['Specific_Room', 'on_9', 'on_9'],\n",
       "  ['Current_Position', 'close_10', 'close_10'],\n",
       "  ['Picture_Name', 'close_10', 'close_10'],\n",
       "  ['Current_Position', 'close_11', 'close_11'],\n",
       "  ['Picture_Name', 'close_11', 'close_11'],\n",
       "  ['Specific_Room', 'close_11', 'close_11'],\n",
       "  ['Current_Position', 'close_12', 'close_12'],\n",
       "  ['Picture_Name', 'close_12', 'close_12'],\n",
       "  ['Specific_Room', 'close_12', 'close_12'],\n",
       "  ['Current_Position', 'close_13', 'close_13'],\n",
       "  ['Picture_Name', 'close_13', 'close_13'],\n",
       "  ['Current_Position', 'close_14', 'close_14'],\n",
       "  ['Picture_Name', 'close_14', 'close_14'],\n",
       "  ['Specific_Room', 'close_14', 'close_14'],\n",
       "  ['Current_Position', 'close_15', 'close_15'],\n",
       "  ['Picture_Name', 'close_15', 'close_15'],\n",
       "  ['Specific_Room', 'close_15', 'close_15'],\n",
       "  ['Current_Position', 'close_16', 'close_16'],\n",
       "  ['Picture_Name', 'close_16', 'close_16'],\n",
       "  ['Specific_Room', 'close_16', 'close_16'],\n",
       "  ['Current_Position', 'close_17', 'close_17'],\n",
       "  ['Picture_Name', 'close_17', 'close_17'],\n",
       "  ['Current_Position', 'close_18', 'close_18'],\n",
       "  ['Picture_Name', 'close_18', 'close_18'],\n",
       "  ['Specific_Room', 'close_18', 'close_18'],\n",
       "  ['Current_Position', 'close_19', 'close_19'],\n",
       "  ['Picture_Name', 'close_19', 'close_19'],\n",
       "  ['Current_Position', 'far_20', 'far_20'],\n",
       "  ['Picture_Name', 'far_20', 'far_20'],\n",
       "  ['Current_Position', 'far_21', 'far_21'],\n",
       "  ['Picture_Name', 'far_21', 'far_21'],\n",
       "  ['Specific_Room', 'far_21', 'far_21'],\n",
       "  ['Current_Position', 'far_22', 'far_22'],\n",
       "  ['Picture_Name', 'far_22', 'far_22'],\n",
       "  ['Specific_Room', 'far_22', 'far_22'],\n",
       "  ['Picture_Name', 'far_23', 'far_23'],\n",
       "  ['Specific_Room', 'far_23', 'far_23'],\n",
       "  ['Current_Position', 'far_24', 'far_24'],\n",
       "  ['Picture_Name', 'far_24', 'far_24'],\n",
       "  ['Specific_Room', 'far_24', 'far_24'],\n",
       "  ['Current_Position', 'far_25', 'far_25'],\n",
       "  ['Picture_Name', 'far_25', 'far_25'],\n",
       "  ['Current_Position', 'far_26', 'far_26'],\n",
       "  ['Picture_Name', 'far_26', 'far_26'],\n",
       "  ['Current_Position', 'far_27', 'far_27'],\n",
       "  ['Picture_Name', 'far_27', 'far_27'],\n",
       "  ['Specific_Room', 'far_27', 'far_27'],\n",
       "  ['Current_Position', 'far_28', 'far_28'],\n",
       "  ['Picture_Name', 'far_28', 'far_28'],\n",
       "  ['Specific_Room', 'far_28', 'far_28'],\n",
       "  ['Current_Position', 'far_29', 'far_29'],\n",
       "  ['Picture_Name', 'far_29', 'far_29'],\n",
       "  ['Specific_Room', 'far_29', 'far_29']]}"
      ]
     },
     "execution_count": 92,
     "metadata": {},
     "output_type": "execute_result"
    }
   ],
   "execution_count": 92
  },
  {
   "metadata": {
    "ExecuteTime": {
     "end_time": "2025-02-25T16:43:37.923500Z",
     "start_time": "2025-02-25T16:43:37.910366Z"
    }
   },
   "cell_type": "code",
   "source": "",
   "id": "171c5928c9b03dc9",
   "outputs": [],
   "execution_count": null
  }
 ],
 "metadata": {
  "kernelspec": {
   "display_name": "Python 3",
   "language": "python",
   "name": "python3"
  },
  "language_info": {
   "codemirror_mode": {
    "name": "ipython",
    "version": 2
   },
   "file_extension": ".py",
   "mimetype": "text/x-python",
   "name": "python",
   "nbconvert_exporter": "python",
   "pygments_lexer": "ipython2",
   "version": "2.7.6"
  }
 },
 "nbformat": 4,
 "nbformat_minor": 5
}
